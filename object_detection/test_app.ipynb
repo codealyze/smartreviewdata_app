{
 "cells": [
  {
   "cell_type": "code",
   "execution_count": 2,
   "metadata": {},
   "outputs": [
    {
     "name": "stderr",
     "output_type": "stream",
     "text": [
      "/usr/local/lib/python2.7/dist-packages/matplotlib/__init__.py:1405: UserWarning: \n",
      "This call to matplotlib.use() has no effect because the backend has already\n",
      "been chosen; matplotlib.use() must be called *before* pylab, matplotlib.pyplot,\n",
      "or matplotlib.backends is imported for the first time.\n",
      "\n",
      "  warnings.warn(_use_error_msg)\n"
     ]
    }
   ],
   "source": [
    "import OCR \n",
    "import OD\n",
    "import SIGNATURE\n",
    "import DB"
   ]
  },
  {
   "cell_type": "code",
   "execution_count": null,
   "metadata": {},
   "outputs": [],
   "source": [
    "# Run Object Detection and create image parts\n",
    "OD.predict_boxes()"
   ]
  },
  {
   "cell_type": "code",
   "execution_count": 4,
   "metadata": {},
   "outputs": [
    {
     "name": "stderr",
     "output_type": "stream",
     "text": [
      "100%|██████████| 2/2 [00:01<00:00,  1.25it/s]\n"
     ]
    }
   ],
   "source": [
    "# Calculate Rows data using OCR\n",
    "ROWS = OCR.calculate_data(36, 'imageparts')"
   ]
  },
  {
   "cell_type": "code",
   "execution_count": null,
   "metadata": {},
   "outputs": [],
   "source": []
  },
  {
   "cell_type": "code",
   "execution_count": null,
   "metadata": {},
   "outputs": [],
   "source": [
    "def fraud_check():\n",
    "    \"\"\"\n",
    "    Function to define fraud checks\"\"\"\n",
    "    pass\n",
    "\n",
    "def match_query(ROWS):\n",
    "    \"\"\"\n",
    "    Function to match accno and rtno of images in bigquery\n",
    "    \"\"\"\n",
    "    for row in ROWS:\n",
    "        query_result = DB.query_sign(row[4], row[5])\n",
    "        if query_result:\n",
    "            sign1_path_folder = row[2].split('/')[-1].split('.')[0]\n",
    "            sign2_path_folder = result[2].split('/')[-1].split('.')[0]\n",
    "            \n",
    "            sign1_path = 'imageparts/{}.jpg'.format(sign1_path_folder)\n",
    "            sign2_path = 'global_imageparts/{}.jpg'.format(sign2_path_folder)\n",
    "            \n",
    "            result = SIGNATURE.match_signatures(sign1_path, sign2_path)\n",
    "            \n",
    "            # Interpret Result\n",
    "            if result >= 15:\n",
    "                row[9] = 'True'\n",
    "            else:\n",
    "                row[9] = 'False'\n",
    "            DB.push_into_bigquery(list(row))\n",
    "        else:\n",
    "            DB.push_into_bigquery(list(row))"
   ]
  },
  {
   "cell_type": "code",
   "execution_count": null,
   "metadata": {},
   "outputs": [],
   "source": [
    "match_query(ROWS)"
   ]
  },
  {
   "cell_type": "code",
   "execution_count": null,
   "metadata": {},
   "outputs": [],
   "source": [
    "SIGNATURE.match_signatures('imageparts/20171202_132406/Signature.jpg', 'imageparts/20171202_132416/Signature.jpg')"
   ]
  },
  {
   "cell_type": "code",
   "execution_count": null,
   "metadata": {
    "collapsed": true
   },
   "outputs": [],
   "source": []
  }
 ],
 "metadata": {
  "kernelspec": {
   "display_name": "Python 2",
   "language": "python",
   "name": "python2"
  },
  "language_info": {
   "codemirror_mode": {
    "name": "ipython",
    "version": 2
   },
   "file_extension": ".py",
   "mimetype": "text/x-python",
   "name": "python",
   "nbconvert_exporter": "python",
   "pygments_lexer": "ipython2",
   "version": "2.7.12"
  }
 },
 "nbformat": 4,
 "nbformat_minor": 2
}
